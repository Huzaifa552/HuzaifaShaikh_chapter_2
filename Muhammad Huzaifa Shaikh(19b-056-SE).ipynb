{
 "cells": [
  {
   "cell_type": "markdown",
   "metadata": {},
   "source": [
    "# Muhammad Huzaifa Shaikh (19b-056-SE) SEC:A"
   ]
  },
  {
   "cell_type": "code",
   "execution_count": 1,
   "metadata": {},
   "outputs": [
    {
     "name": "stdout",
     "output_type": "stream",
     "text": [
      "10\n"
     ]
    }
   ],
   "source": [
    "#1\n",
    "a = 3\n",
    "b = 7\n",
    "result = a + b\n",
    "print(result)"
   ]
  },
  {
   "cell_type": "code",
   "execution_count": 3,
   "metadata": {},
   "outputs": [
    {
     "name": "stdout",
     "output_type": "stream",
     "text": [
      "6\n"
     ]
    }
   ],
   "source": [
    "#2\n",
    "a = 3\n",
    "b = 2\n",
    "result = a * b\n",
    "print(result)"
   ]
  },
  {
   "cell_type": "code",
   "execution_count": null,
   "metadata": {},
   "outputs": [],
   "source": [
    "#3\n",
    "a = 5\n",
    "b = 2\n",
    "result = a / b\n",
    "print(result)"
   ]
  },
  {
   "cell_type": "code",
   "execution_count": null,
   "metadata": {},
   "outputs": [],
   "source": [
    "#4\n",
    "a = 4\n",
    "b = 2\n",
    "result = a / b\n",
    "print(result)"
   ]
  },
  {
   "cell_type": "code",
   "execution_count": 4,
   "metadata": {},
   "outputs": [
    {
     "name": "stdout",
     "output_type": "stream",
     "text": [
      "7\n",
      "12\n",
      "0.3323846153846154\n",
      "2\n"
     ]
    }
   ],
   "source": [
    "# 5\n",
    "print((2 * 3) + 1)\n",
    "print((3 + 1) * 3)\n",
    "print(4.321 / (3 + 10))\n",
    "print((3 - 2) + 1)"
   ]
  },
  {
   "cell_type": "code",
   "execution_count": 5,
   "metadata": {},
   "outputs": [
    {
     "name": "stdout",
     "output_type": "stream",
     "text": [
      "8\n",
      "16\n",
      "4\n",
      "2\n"
     ]
    }
   ],
   "source": [
    "# 6\n",
    "print(2 ** 3)\n",
    "print(2 ** 4)\n",
    "print(14 // 3)\n",
    "print(14 % 3)"
   ]
  },
  {
   "cell_type": "code",
   "execution_count": 6,
   "metadata": {},
   "outputs": [
    {
     "data": {
      "text/plain": [
       "4"
      ]
     },
     "execution_count": 6,
     "metadata": {},
     "output_type": "execute_result"
    }
   ],
   "source": [
    "# 7\n",
    "def f(x):\n",
    "    result = x + 1\n",
    "    return result\n",
    "f(3)"
   ]
  },
  {
   "cell_type": "code",
   "execution_count": 7,
   "metadata": {},
   "outputs": [
    {
     "name": "stdout",
     "output_type": "stream",
     "text": [
      "4\n",
      "4\n",
      "3.2\n"
     ]
    }
   ],
   "source": [
    "# 8\n",
    "print(abs(-4))\n",
    "print(abs(4))\n",
    "print(abs(-3.2))"
   ]
  },
  {
   "cell_type": "code",
   "execution_count": 9,
   "metadata": {},
   "outputs": [
    {
     "name": "stdout",
     "output_type": "stream",
     "text": [
      "-2\n",
      "6\n",
      "-4\n",
      "26.5\n"
     ]
    }
   ],
   "source": [
    "# 9\n",
    "print(min(6, -2))\n",
    "print(max(6, -2))\n",
    "print(min(2, -4, 6, -2))\n",
    "print(max(12, 26.5, 3.5))"
   ]
  },
  {
   "cell_type": "code",
   "execution_count": 12,
   "metadata": {},
   "outputs": [
    {
     "name": "stdout",
     "output_type": "stream",
     "text": [
      "15\n"
     ]
    }
   ],
   "source": [
    "# exercise 2.1\n",
    "# part a\n",
    "print(1 + 2 + 3 + 4 + 5)"
   ]
  },
  {
   "cell_type": "code",
   "execution_count": 11,
   "metadata": {},
   "outputs": [
    {
     "name": "stdout",
     "output_type": "stream",
     "text": [
      "Enter sara age: 23\n",
      "Enter mark age: 19\n",
      "Enter fatima age: 31\n",
      "24.333333333333332\n"
     ]
    }
   ],
   "source": [
    "# part b\n",
    "sara_age = eval(input(\"Enter sara age: \"))\n",
    "mark_age = eval(input(\"Enter mark age: \"))\n",
    "fatima_age = eval(input(\"Enter fatima age: \"))\n",
    "average = ((sara_age + mark_age + fatima_age) / 3)\n",
    "print(average)"
   ]
  },
  {
   "cell_type": "code",
   "execution_count": 24,
   "metadata": {},
   "outputs": [
    {
     "name": "stdout",
     "output_type": "stream",
     "text": [
      "5\n"
     ]
    }
   ],
   "source": [
    "# part c\n",
    "print(403 // 73)"
   ]
  },
  {
   "cell_type": "code",
   "execution_count": 25,
   "metadata": {},
   "outputs": [
    {
     "name": "stdout",
     "output_type": "stream",
     "text": [
      "38\n"
     ]
    }
   ],
   "source": [
    "# part d\n",
    "print(403 % 73)"
   ]
  },
  {
   "cell_type": "code",
   "execution_count": 27,
   "metadata": {},
   "outputs": [
    {
     "name": "stdout",
     "output_type": "stream",
     "text": [
      "two to the power 10 is:  1024\n"
     ]
    }
   ],
   "source": [
    "# part e\n",
    "print(\"two to the power 10 is: \", 2 ** 10)"
   ]
  },
  {
   "cell_type": "code",
   "execution_count": 29,
   "metadata": {},
   "outputs": [
    {
     "name": "stdout",
     "output_type": "stream",
     "text": [
      "enter sara height: 54\n",
      "enter mark height: 57\n",
      "3\n"
     ]
    }
   ],
   "source": [
    "# part f\n",
    "sara_height = eval(input(\"enter sara height: \"))\n",
    "mark_height = eval(input(\"enter mark height: \"))\n",
    "print(abs(sara_height - mark_height))"
   ]
  },
  {
   "cell_type": "code",
   "execution_count": 9,
   "metadata": {},
   "outputs": [
    {
     "data": {
      "text/plain": [
       "29.95"
      ]
     },
     "execution_count": 9,
     "metadata": {},
     "output_type": "execute_result"
    }
   ],
   "source": [
    "# part g\n",
    "min(34.99, 29.95, 31.50)"
   ]
  },
  {
   "cell_type": "code",
   "execution_count": 13,
   "metadata": {},
   "outputs": [
    {
     "name": "stdout",
     "output_type": "stream",
     "text": [
      "True\n",
      "False\n",
      "True\n"
     ]
    }
   ],
   "source": [
    "# 10\n",
    "a = 2\n",
    "b = 3\n",
    "x = a < b\n",
    "print(x)\n",
    "y = b < a\n",
    "print(y)\n",
    "z = (5 - 1) > (2 + 1)\n",
    "print(z)"
   ]
  },
  {
   "cell_type": "code",
   "execution_count": 15,
   "metadata": {},
   "outputs": [
    {
     "name": "stdout",
     "output_type": "stream",
     "text": [
      "True\n",
      "True\n",
      "False\n",
      "True\n",
      "False\n",
      "True\n"
     ]
    }
   ],
   "source": [
    "# 11\n",
    "print(3 == 3)\n",
    "print((3 + 5) == (4 + 4))\n",
    "print(3 == (5 - 3))\n",
    "print(3 <= 4)\n",
    "print(3 >= 4)\n",
    "print(3 != 4)"
   ]
  },
  {
   "cell_type": "code",
   "execution_count": 10,
   "metadata": {},
   "outputs": [
    {
     "data": {
      "text/plain": [
       "False"
      ]
     },
     "execution_count": 10,
     "metadata": {},
     "output_type": "execute_result"
    }
   ],
   "source": [
    "# exercise 2.2\n",
    "# part a\n",
    "2 + 2 < 4"
   ]
  },
  {
   "cell_type": "code",
   "execution_count": 11,
   "metadata": {},
   "outputs": [
    {
     "data": {
      "text/plain": [
       "True"
      ]
     },
     "execution_count": 11,
     "metadata": {},
     "output_type": "execute_result"
    }
   ],
   "source": [
    "# part b\n",
    "7 // 3 == 1 + 1"
   ]
  },
  {
   "cell_type": "code",
   "execution_count": 12,
   "metadata": {},
   "outputs": [
    {
     "data": {
      "text/plain": [
       "True"
      ]
     },
     "execution_count": 12,
     "metadata": {},
     "output_type": "execute_result"
    }
   ],
   "source": [
    "# part c\n",
    "3 ** 2 + 4 ** 2 == 25"
   ]
  },
  {
   "cell_type": "code",
   "execution_count": 13,
   "metadata": {},
   "outputs": [
    {
     "data": {
      "text/plain": [
       "False"
      ]
     },
     "execution_count": 13,
     "metadata": {},
     "output_type": "execute_result"
    }
   ],
   "source": [
    "# part d\n",
    "2 + 4 + 6 > 12"
   ]
  },
  {
   "cell_type": "code",
   "execution_count": 15,
   "metadata": {},
   "outputs": [
    {
     "data": {
      "text/plain": [
       "True"
      ]
     },
     "execution_count": 15,
     "metadata": {},
     "output_type": "execute_result"
    }
   ],
   "source": [
    "# part e\n",
    "1387 % 19 == 0"
   ]
  },
  {
   "cell_type": "code",
   "execution_count": 16,
   "metadata": {},
   "outputs": [
    {
     "data": {
      "text/plain": [
       "False"
      ]
     },
     "execution_count": 16,
     "metadata": {},
     "output_type": "execute_result"
    }
   ],
   "source": [
    "# part f\n",
    "31 % 2 == 0"
   ]
  },
  {
   "cell_type": "code",
   "execution_count": 17,
   "metadata": {},
   "outputs": [
    {
     "data": {
      "text/plain": [
       "True"
      ]
     },
     "execution_count": 17,
     "metadata": {},
     "output_type": "execute_result"
    }
   ],
   "source": [
    "# part g\n",
    "min(34.99, 29.95, 31.50) < 30.00"
   ]
  },
  {
   "cell_type": "code",
   "execution_count": 17,
   "metadata": {},
   "outputs": [
    {
     "name": "stdout",
     "output_type": "stream",
     "text": [
      "False\n",
      "True\n",
      "True\n",
      "False\n",
      "False\n"
     ]
    }
   ],
   "source": [
    "# 12\n",
    "print((2 < 3) and (4 > 5))\n",
    "print((2 < 3) and True)\n",
    "print((3 < 4) or (4 < 3))\n",
    "print((3 < 2) or (2 < 1))\n",
    "print(not(3 < 4))"
   ]
  },
  {
   "cell_type": "code",
   "execution_count": 19,
   "metadata": {},
   "outputs": [
    {
     "name": "stdout",
     "output_type": "stream",
     "text": [
      "4\n",
      "16\n",
      "16\n"
     ]
    }
   ],
   "source": [
    "# 13\n",
    "x = 4\n",
    "print(x)\n",
    "print(4 * x)\n",
    "counter = 4 * x\n",
    "print(counter)"
   ]
  },
  {
   "cell_type": "code",
   "execution_count": 30,
   "metadata": {},
   "outputs": [
    {
     "name": "stdout",
     "output_type": "stream",
     "text": [
      "28\n"
     ]
    }
   ],
   "source": [
    "# exercise 2.3\n",
    "# part a\n",
    "a = 3\n",
    "# part b\n",
    "b = 4\n",
    "# part c\n",
    "c = (a * b) + (b * b)\n",
    "print(c)"
   ]
  },
  {
   "cell_type": "code",
   "execution_count": 21,
   "metadata": {},
   "outputs": [
    {
     "name": "stdout",
     "output_type": "stream",
     "text": [
      "7\n"
     ]
    }
   ],
   "source": [
    "# 14\n",
    "x = 4\n",
    "x = 7\n",
    "print(x)"
   ]
  },
  {
   "cell_type": "code",
   "execution_count": 23,
   "metadata": {},
   "outputs": [
    {
     "name": "stdout",
     "output_type": "stream",
     "text": [
      "Hello, World\n",
      "hello\n",
      "True\n",
      "False\n",
      "True\n",
      "False\n",
      "helloworld\n",
      "hello world\n"
     ]
    }
   ],
   "source": [
    "# 15\n",
    "print(\"Hello, World\")\n",
    "s = \"hello\"\n",
    "print(s)\n",
    "s == \"hello\"\n",
    "t = \"world\"\n",
    "print(s != t)\n",
    "print(s == t)\n",
    "print(s < t)\n",
    "print(s > t)\n",
    "print( s + t)\n",
    "print(s + ' ' + t)"
   ]
  },
  {
   "cell_type": "code",
   "execution_count": 26,
   "metadata": {},
   "outputs": [
    {
     "name": "stdout",
     "output_type": "stream",
     "text": [
      "True\n",
      "False\n",
      "True\n",
      "5\n"
     ]
    }
   ],
   "source": [
    "# 16\n",
    "s = \"hello\"\n",
    "print('h' in s)\n",
    "print('g' in s)\n",
    "print('ll' in s)\n",
    "print(len(s))"
   ]
  },
  {
   "cell_type": "code",
   "execution_count": 35,
   "metadata": {},
   "outputs": [
    {
     "name": "stdout",
     "output_type": "stream",
     "text": [
      "ant bat cod\n",
      "ant ant ant ant ant ant ant ant ant ant \n",
      "antbat bat cod cod cod \n",
      "ant bat ant bat ant bat ant bat ant bat ant bat ant bat \n",
      "batbatcod batbatcod batbatcod batbatcod batbatcod \n"
     ]
    }
   ],
   "source": [
    "# Exercise 2.4\n",
    "s1 = \"ant\"\n",
    "s2 = \"bat\"\n",
    "s3 = \"cod\"\n",
    "# part a\n",
    "print(s1 + \" \" + s2 + \" \" + s3)\n",
    "# part b\n",
    "print(10 * (s1 + \" \"))\n",
    "# part c\n",
    "print(s1 + \"\" + (2 * (s2 + \" \")) + (3 * (s3 + \" \")))\n",
    "# part d\n",
    "print(7 * (s1 + \" \" + s2 + \" \"))\n",
    "# part e\n",
    "print(5 * (s2 + s2 + s3 + \" \"))"
   ]
  },
  {
   "cell_type": "code",
   "execution_count": 37,
   "metadata": {},
   "outputs": [
    {
     "name": "stdout",
     "output_type": "stream",
     "text": [
      "0\n",
      "1\n",
      "6\n",
      "8\n",
      "9\n"
     ]
    }
   ],
   "source": [
    "# exercise 2.5\n",
    "s = \"0123456789\"\n",
    "print(s[0])\n",
    "print(s[1])\n",
    "print(s[6])\n",
    "print(s[8])\n",
    "print(s[9])"
   ]
  },
  {
   "cell_type": "code",
   "execution_count": 39,
   "metadata": {},
   "outputs": [
    {
     "name": "stdout",
     "output_type": "stream",
     "text": [
      "badminton\n",
      "bat\n"
     ]
    }
   ],
   "source": [
    "# exercise 2.6\n",
    "words = [\"bat\", \"ball\", \"barn\", \"basket\", \"badminton\"]"
   ]
  },
  {
   "cell_type": "code",
   "execution_count": 47,
   "metadata": {},
   "outputs": [
    {
     "name": "stdout",
     "output_type": "stream",
     "text": [
      "2\n",
      "[9, 7, 7, 10, 3, 9, 6, 6, 4]\n",
      "10\n",
      "[3, 4, 6, 6, 7, 7, 9, 9, 10]\n",
      "6.777777777777778\n"
     ]
    }
   ],
   "source": [
    "# exercise 2.7\n",
    "grades =[9, 7, 7, 10, 3, 9, 6, 6, 2]\n",
    "# part a\n",
    "print(grades.count(7))\n",
    "# part b\n",
    "grades[-1] = 4\n",
    "print(grades)\n",
    "# part c\n",
    "print(max(grades))\n",
    "# part d\n",
    "grades.sort()\n",
    "print(grades)\n",
    "# part e\n",
    "average = sum(grades) / 9\n",
    "print(average)"
   ]
  },
  {
   "cell_type": "code",
   "execution_count": 56,
   "metadata": {},
   "outputs": [
    {
     "data": {
      "text/plain": [
       "False"
      ]
     },
     "execution_count": 56,
     "metadata": {},
     "output_type": "execute_result"
    }
   ],
   "source": [
    "# exercise 2.8\n",
    "# part a\n",
    "((2 + 3) == 4) or (a >= 5)"
   ]
  },
  {
   "cell_type": "code",
   "execution_count": 59,
   "metadata": {},
   "outputs": [
    {
     "data": {
      "text/plain": [
       "True"
      ]
     },
     "execution_count": 59,
     "metadata": {},
     "output_type": "execute_result"
    }
   ],
   "source": [
    "# part b\n",
    "(((lst[1]) * (-3)) < (-10)) == 0"
   ]
  },
  {
   "cell_type": "code",
   "execution_count": 58,
   "metadata": {},
   "outputs": [
    {
     "data": {
      "text/plain": [
       "True"
      ]
     },
     "execution_count": 58,
     "metadata": {},
     "output_type": "execute_result"
    }
   ],
   "source": [
    "# part c\n",
    "((lst[1]) * (-3) < (-10)) in [0, True]"
   ]
  },
  {
   "cell_type": "code",
   "execution_count": 60,
   "metadata": {},
   "outputs": [
    {
     "data": {
      "text/plain": [
       "18"
      ]
     },
     "execution_count": 60,
     "metadata": {},
     "output_type": "execute_result"
    }
   ],
   "source": [
    "# part d\n",
    "(2 * (3 ** 2))"
   ]
  },
  {
   "cell_type": "code",
   "execution_count": 61,
   "metadata": {},
   "outputs": [
    {
     "data": {
      "text/plain": [
       "True"
      ]
     },
     "execution_count": 61,
     "metadata": {},
     "output_type": "execute_result"
    }
   ],
   "source": [
    "# part e\n",
    "4 / 2 in [1, 2, 3]"
   ]
  },
  {
   "cell_type": "code",
   "execution_count": 66,
   "metadata": {},
   "outputs": [
    {
     "name": "stdout",
     "output_type": "stream",
     "text": [
      "<class 'int'>\n"
     ]
    }
   ],
   "source": [
    "# exercise 2.9\n",
    "# part a\n",
    "print(type(False + False))"
   ]
  },
  {
   "cell_type": "code",
   "execution_count": 67,
   "metadata": {},
   "outputs": [
    {
     "name": "stdout",
     "output_type": "stream",
     "text": [
      "<class 'float'>\n"
     ]
    }
   ],
   "source": [
    "# part b\n",
    "print(type(2 * (3 ** 2.0)))"
   ]
  },
  {
   "cell_type": "code",
   "execution_count": 69,
   "metadata": {},
   "outputs": [
    {
     "name": "stdout",
     "output_type": "stream",
     "text": [
      "<class 'int'>\n"
     ]
    }
   ],
   "source": [
    "# part c\n",
    "print(type((4 // 2) + (4 % 2)))"
   ]
  },
  {
   "cell_type": "code",
   "execution_count": 70,
   "metadata": {},
   "outputs": [
    {
     "name": "stdout",
     "output_type": "stream",
     "text": [
      "<class 'bool'>\n"
     ]
    }
   ],
   "source": [
    "# part d\n",
    "print(type((2 + 3 == 4) or (5 >= 5)))"
   ]
  },
  {
   "cell_type": "code",
   "execution_count": 1,
   "metadata": {},
   "outputs": [
    {
     "ename": "NameError",
     "evalue": "name 'a' is not defined",
     "output_type": "error",
     "traceback": [
      "\u001b[1;31m---------------------------------------------------------------------------\u001b[0m",
      "\u001b[1;31mNameError\u001b[0m                                 Traceback (most recent call last)",
      "\u001b[1;32m<ipython-input-1-56cbde9bf704>\u001b[0m in \u001b[0;36m<module>\u001b[1;34m\u001b[0m\n\u001b[0;32m      2\u001b[0m \u001b[1;31m# part a\u001b[0m\u001b[1;33m\u001b[0m\u001b[1;33m\u001b[0m\u001b[1;33m\u001b[0m\u001b[0m\n\u001b[0;32m      3\u001b[0m \u001b[1;32mfrom\u001b[0m \u001b[0mmath\u001b[0m \u001b[1;32mimport\u001b[0m \u001b[0msqrt\u001b[0m\u001b[1;33m\u001b[0m\u001b[1;33m\u001b[0m\u001b[0m\n\u001b[1;32m----> 4\u001b[1;33m \u001b[0mperpendicular\u001b[0m \u001b[1;33m=\u001b[0m \u001b[0ma\u001b[0m\u001b[1;33m\u001b[0m\u001b[1;33m\u001b[0m\u001b[0m\n\u001b[0m\u001b[0;32m      5\u001b[0m \u001b[0mbase\u001b[0m \u001b[1;33m=\u001b[0m \u001b[0mb\u001b[0m\u001b[1;33m\u001b[0m\u001b[1;33m\u001b[0m\u001b[0m\n\u001b[0;32m      6\u001b[0m \u001b[0mhypotenuse\u001b[0m \u001b[1;33m=\u001b[0m \u001b[0msqrt\u001b[0m\u001b[1;33m(\u001b[0m\u001b[1;33m(\u001b[0m\u001b[0ma\u001b[0m \u001b[1;33m**\u001b[0m \u001b[1;36m2\u001b[0m\u001b[1;33m)\u001b[0m \u001b[1;33m+\u001b[0m \u001b[1;33m(\u001b[0m\u001b[0mb\u001b[0m \u001b[1;33m**\u001b[0m \u001b[1;36m2\u001b[0m\u001b[1;33m)\u001b[0m\u001b[1;33m)\u001b[0m\u001b[1;33m\u001b[0m\u001b[1;33m\u001b[0m\u001b[0m\n",
      "\u001b[1;31mNameError\u001b[0m: name 'a' is not defined"
     ]
    }
   ],
   "source": [
    "# exercise 2.10\n",
    "# part a\n",
    "from math import sqrt\n",
    "perpendicular = a\n",
    "base = b\n",
    "hypotenuse = sqrt((a ** 2) + (b ** 2))\n",
    "# part b\n",
    "hypotenuse = sqrt((a ** 2) + (b ** 2)) == 5\n",
    "# part c\n",
    "from math import pi\n",
    "radius = a\n",
    "area = pi * radius ** 2\n",
    "# part d\n",
    "radius = r\n",
    "(x - a) ** 2 + (y - b) ** 2 < r ** 2"
   ]
  },
  {
   "cell_type": "code",
   "execution_count": 3,
   "metadata": {},
   "outputs": [
    {
     "name": "stdout",
     "output_type": "stream",
     "text": [
      "5/8\n"
     ]
    }
   ],
   "source": [
    "#Question 3\n",
    "from fractions import Fraction\n",
    "a = 5\n",
    "b = 8\n",
    "c = Fraction(a, b)\n",
    "print(c)"
   ]
  },
  {
   "cell_type": "code",
   "execution_count": 11,
   "metadata": {},
   "outputs": [
    {
     "name": "stdout",
     "output_type": "stream",
     "text": [
      "-28\n"
     ]
    }
   ],
   "source": [
    "#2.11\n",
    "lst=[-7,-6,-5,-4,-3,-2,-1]\n",
    "a=sum(lst)\n",
    "print(a)"
   ]
  },
  {
   "cell_type": "code",
   "execution_count": 15,
   "metadata": {},
   "outputs": [
    {
     "name": "stdout",
     "output_type": "stream",
     "text": [
      "The average age is: 10.5\n"
     ]
    }
   ],
   "source": [
    "#2.11(b)\n",
    "#Ages\n",
    "age_of_17=9\n",
    "age_of_24=10\n",
    "age_of_21=11\n",
    "age_of_27=12\n",
    "print(\"The average age is:\",(age_of_17+age_of_24+age_of_21+age_of_27)/4)"
   ]
  },
  {
   "cell_type": "code",
   "execution_count": 16,
   "metadata": {},
   "outputs": [
    {
     "name": "stdout",
     "output_type": "stream",
     "text": [
      "9.5367431640625e-07\n"
     ]
    }
   ],
   "source": [
    "#2.11(c)\n",
    "power=2**(-20)\n",
    "print(power)"
   ]
  },
  {
   "cell_type": "code",
   "execution_count": 17,
   "metadata": {},
   "outputs": [
    {
     "name": "stdout",
     "output_type": "stream",
     "text": [
      "71.40983606557377\n"
     ]
    }
   ],
   "source": [
    "#2.11(d)\n",
    "no_of_time=4356/61\n",
    "print(no_of_time)\n"
   ]
  },
  {
   "cell_type": "code",
   "execution_count": 22,
   "metadata": {},
   "outputs": [
    {
     "name": "stdout",
     "output_type": "stream",
     "text": [
      "The remainder is: 34\n"
     ]
    }
   ],
   "source": [
    "#2.11(e)\n",
    "remainder=4365%61\n",
    "print(\"The remainder is:\",remainder)"
   ]
  },
  {
   "cell_type": "code",
   "execution_count": 35,
   "metadata": {},
   "outputs": [
    {
     "name": "stdout",
     "output_type": "stream",
     "text": [
      "-+\n",
      "-+-\n",
      "+--\n",
      "+--+--\n",
      "+--+--+--+--+--+--+--+--+--+--+--+\n",
      "+-+++--+-+++--+-+++--+-+++--+-+++--\n"
     ]
    }
   ],
   "source": [
    "#2.12\n",
    "s1='-'\n",
    "s2='+'\n",
    "print(s1+s2)\n",
    "print(s1+s2+s1)\n",
    "print(s2+s1+s1)\n",
    "print(s2+s1+s1+s2+s1+s1)\n",
    "print(s2+s1+s1+s2+s1+s1+s2+s1+s1+s2+s1+s1+s2+s1+s1+s2+s1+s1+s2+s1+s1+s2+s1+s1+s2+s1+s1+s2+s1+s1+s2+s1+s1+s2)\n",
    "print(s2+s1+s2+s2+s2+s1+s1+s2+s1+s2+s2+s2+s1+s1+s2+s1+s2+s2+s2+s1+s1+s2+s1+s2+s2+s2+s1+s1+s2+s1+s2+s2+s2+s1+s1)"
   ]
  },
  {
   "cell_type": "code",
   "execution_count": 52,
   "metadata": {},
   "outputs": [
    {
     "name": "stdout",
     "output_type": "stream",
     "text": [
      "a\n",
      "c\n",
      "z\n",
      "y\n",
      "q\n"
     ]
    }
   ],
   "source": [
    "#2.13\n",
    "s = 'abcdefghijklmnopqrstuvwxyz'\n",
    "print(s[0])\n",
    "print(s[2])\n",
    "print(s[25])\n",
    "print(s[24])\n",
    "print(s[16])"
   ]
  },
  {
   "cell_type": "code",
   "execution_count": null,
   "metadata": {},
   "outputs": [],
   "source": []
  }
 ],
 "metadata": {
  "kernelspec": {
   "display_name": "Python 3",
   "language": "python",
   "name": "python3"
  },
  "language_info": {
   "codemirror_mode": {
    "name": "ipython",
    "version": 3
   },
   "file_extension": ".py",
   "mimetype": "text/x-python",
   "name": "python",
   "nbconvert_exporter": "python",
   "pygments_lexer": "ipython3",
   "version": "3.7.3"
  }
 },
 "nbformat": 4,
 "nbformat_minor": 2
}
